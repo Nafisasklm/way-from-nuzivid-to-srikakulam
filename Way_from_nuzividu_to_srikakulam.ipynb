{
  "nbformat": 4,
  "nbformat_minor": 0,
  "metadata": {
    "colab": {
      "name": "Way from nuzividu to srikakulam",
      "provenance": [],
      "collapsed_sections": [],
      "authorship_tag": "ABX9TyNDfuSgdmPQaZWqO5k84E06",
      "include_colab_link": true
    },
    "kernelspec": {
      "name": "python3",
      "display_name": "Python 3"
    },
    "language_info": {
      "name": "python"
    }
  },
  "cells": [
    {
      "cell_type": "markdown",
      "metadata": {
        "id": "view-in-github",
        "colab_type": "text"
      },
      "source": [
        "<a href=\"https://colab.research.google.com/github/Nafisasklm/way-from-nuzivid-to-srikakulam/blob/main/Way_from_nuzividu_to_srikakulam.ipynb\" target=\"_parent\"><img src=\"https://colab.research.google.com/assets/colab-badge.svg\" alt=\"Open In Colab\"/></a>"
      ]
    },
    {
      "cell_type": "code",
      "execution_count": 1,
      "metadata": {
        "id": "LxPfH6Pb1eH8"
      },
      "outputs": [],
      "source": [
        "import folium"
      ]
    },
    {
      "cell_type": "code",
      "source": [
        "way1=[[16.780001,80.849998],[16.7850,80.8488],[16.6356,80.9716],[16.7107,81.0952],[16.8108,81.2637],[16.9479,81.4045],\n",
        "     [16.9990,81.5061],[17.0350,81.5624],[16.9930,81.6668],[17.0005,81.8040],[17.2789, 82.4013],[17.3573, 82.5443],[17.6868,83.2185],[17.9325,83.4268],[18.1408,83.6197],[18.2821,83.8248],[18.2949,83.8938]]\n",
        "way2=[[16.780001,80.849998],[16.7850,80.8488],[16.7107,81.0952],[16.7107,81.0952],[16.8108,81.2637],[16.9479,81.4045],[16.9990,81.5061],[17.0350,81.5624],[16.9930,81.6668],[17.0005,81.8040],[17.2789,82.4013],[17.3573,82.5443],\n",
        "      [17.5472,82.8573],[17.6896,83.0024],[17.9325,83.4268],[18.2949,83.8938]]"
      ],
      "metadata": {
        "id": "E7jCqsBK1ifY"
      },
      "execution_count": 2,
      "outputs": []
    },
    {
      "cell_type": "code",
      "source": [
        "from branca.element import Figure\n",
        "fig=Figure(width=550,height=350)"
      ],
      "metadata": {
        "id": "jTV2Upxs1mwW"
      },
      "execution_count": 3,
      "outputs": []
    },
    {
      "cell_type": "code",
      "source": [
        "f1=folium.FeatureGroup(\"Vehicle 1\")\n",
        "f2=folium.FeatureGroup(\"Vehicle 2\")\n",
        "map=folium.Map(location=[16.780001,80.849998],tiles=\"cartodbpositron\")\n",
        "line_1=folium.vector_layers.PolyLine(way1,popup='<b>Path of Vehicle_1</b>',tooltip='Vehicle_1',color='blue',weight=10).add_to(f1)\n",
        "line_2=folium.vector_layers.PolyLine(way2,popup='<b>Path of Vehicle_2</b>',tooltip='Vehicle_2',color='red',weight=10).add_to(f2)\n",
        "f1.add_to(map)\n",
        "f2.add_to(map)\n",
        "folium.Marker(location=[16.780001,80.849998],popup=\"Starting point\",tooltip=\"Nuzvidu\").add_to(map)\n",
        "folium.Marker(location=[16.7107,81.0952],tooltip=\"Eluru\",icon=folium.Icon(color=\"green\",prefix=\"fa\",icon=\"plus\")).add_to(map)\n",
        "folium.Marker(location=[16.6356,80.9716],tooltip=\"Hanumanjunction\",icon=folium.Icon(color=\"purple\",prefix=\"fa\",icon=\"bus\")).add_to(map)\n",
        "folium.Marker(location=[17.0005,81.8040],tooltip=\"Rajamahendravaram\",icon=folium.Icon(color=\"pink\",prefix=\"fa\",icon=\"train\")).add_to(map)\n",
        "folium.Marker(location=[17.2789,82.4013],tooltip=\"Annavaram\",icon=folium.Icon(color=\"green\",prefix=\"fa\",icon=\"bell\")).add_to(map)\n",
        "folium.Marker(location=[17.6868,83.2185],tooltip=\"Visakhapatnam\",icon=folium.Icon(color=\"purple\",prefix=\"fa\",icon=\"university\")).add_to(map)\n",
        "folium.Marker(location=[18.1408,83.6197],tooltip=\"pydibimavaram\",icon=folium.Icon(color=\"red\",prefix=\"fa\",icon=\"industry\")).add_to(map)\n",
        "folium.Marker(location=[18.2949,83.8938],popup=\"Destination\",tooltip=\"Srikakulam\",icon=folium.Icon(color=\"green\",prefix=\"fa\",icon=\"home\")).add_to(map)\n",
        "folium.LayerControl().add_to(map)\n",
        "map"
      ],
      "metadata": {
        "id": "BY0kO7sY1tYp"
      },
      "execution_count": null,
      "outputs": []
    }
  ]
}